{
 "cells": [
  {
   "cell_type": "code",
   "execution_count": 9,
   "metadata": {},
   "outputs": [],
   "source": [
    "import pandas as pd\n",
    "import numpy as np\n",
    "\n",
    "# Needed Thorfinn imports\n",
    "from Thorfinn.Hippo.chunkify import chunk\n",
    "from Thorfinn.Models.embedder import embedder_factory\n",
    "from Thorfinn.Hippo.utils import *\n",
    "from Thorfinn.utils import *"
   ]
  },
  {
   "cell_type": "code",
   "execution_count": 10,
   "metadata": {},
   "outputs": [],
   "source": [
    "keys = pd.read_json('config.json')\n",
    "\n",
    "oapi_key = keys.iloc[0]['openai']\n",
    "gapi_key = keys.iloc[0]['googleai']"
   ]
  },
  {
   "attachments": {},
   "cell_type": "markdown",
   "metadata": {},
   "source": [
    "<h2>Below is a test of using Thorfinn to chunk and embed a folder (create local knowledge base)</h2>"
   ]
  },
  {
   "attachments": {},
   "cell_type": "markdown",
   "metadata": {},
   "source": [
    "***"
   ]
  },
  {
   "attachments": {},
   "cell_type": "markdown",
   "metadata": {},
   "source": [
    "<h4>First thing is first, drop all of the files you want to be in your knowledge base into a folder. Then pass that folder path to the <i>get_metadata</i> function below</h4>"
   ]
  },
  {
   "attachments": {},
   "cell_type": "markdown",
   "metadata": {},
   "source": [
    "<h4>First we need to get the metadata of the files in a folder:</h4>"
   ]
  },
  {
   "cell_type": "code",
   "execution_count": 11,
   "metadata": {},
   "outputs": [
    {
     "data": {
      "text/html": [
       "<div>\n",
       "<style scoped>\n",
       "    .dataframe tbody tr th:only-of-type {\n",
       "        vertical-align: middle;\n",
       "    }\n",
       "\n",
       "    .dataframe tbody tr th {\n",
       "        vertical-align: top;\n",
       "    }\n",
       "\n",
       "    .dataframe thead th {\n",
       "        text-align: right;\n",
       "    }\n",
       "</style>\n",
       "<table border=\"1\" class=\"dataframe\">\n",
       "  <thead>\n",
       "    <tr style=\"text-align: right;\">\n",
       "      <th></th>\n",
       "      <th>Name</th>\n",
       "      <th>Item type</th>\n",
       "      <th>Size</th>\n",
       "      <th>Location</th>\n",
       "    </tr>\n",
       "  </thead>\n",
       "  <tbody>\n",
       "    <tr>\n",
       "      <th>0</th>\n",
       "      <td>Attention-is-all-you-need-Paper.pdf</td>\n",
       "      <td>pdf</td>\n",
       "      <td>569417</td>\n",
       "      <td>example_folder_for_hippo</td>\n",
       "    </tr>\n",
       "  </tbody>\n",
       "</table>\n",
       "</div>"
      ],
      "text/plain": [
       "                                  Name Item type    Size  \\\n",
       "0  Attention-is-all-you-need-Paper.pdf       pdf  569417   \n",
       "\n",
       "                   Location  \n",
       "0  example_folder_for_hippo  "
      ]
     },
     "execution_count": 11,
     "metadata": {},
     "output_type": "execute_result"
    }
   ],
   "source": [
    "# get_metadata returns a df for the metadata of all the files found within the root path passed in\n",
    "metadata_df = get_metadata(\"example_folder_for_hippo\")\n",
    "metadata_df.head(1)"
   ]
  },
  {
   "attachments": {},
   "cell_type": "markdown",
   "metadata": {},
   "source": [
    "<h4>Next we utilize the <i><strong>chunk</strong></i> class from <strong>Thorfinn</strong> in order to chunk and embed our information</h4>"
   ]
  },
  {
   "cell_type": "code",
   "execution_count": 13,
   "metadata": {},
   "outputs": [
    {
     "name": "stdout",
     "output_type": "stream",
     "text": [
      "The hippo is eating...\n",
      "The hippo has been satisfied\n"
     ]
    }
   ],
   "source": [
    "chunker = chunk(embed_provider='openai')\n",
    "knowledge_base = chunker.chunk_processing(df=metadata_df,to_embed='file_vision')"
   ]
  },
  {
   "attachments": {},
   "cell_type": "markdown",
   "metadata": {},
   "source": [
    "<h4>Lastly we embed the chunks!</h4>"
   ]
  },
  {
   "cell_type": "code",
   "execution_count": 14,
   "metadata": {},
   "outputs": [],
   "source": [
    "embedder = embedder_factory.create(api_key=oapi_key,provider='openai')\n",
    "knowledge_base['embeddings'] = embedder.batch_embed(df=knowledge_base,to_embed='file_vision')"
   ]
  },
  {
   "attachments": {},
   "cell_type": "markdown",
   "metadata": {},
   "source": [
    "<h2>Now you have successfully created an in-memory knowledge base that can be used for in-context learning!</h2>"
   ]
  },
  {
   "cell_type": "code",
   "execution_count": null,
   "metadata": {},
   "outputs": [
    {
     "data": {
      "text/html": [
       "<div>\n",
       "<style scoped>\n",
       "    .dataframe tbody tr th:only-of-type {\n",
       "        vertical-align: middle;\n",
       "    }\n",
       "\n",
       "    .dataframe tbody tr th {\n",
       "        vertical-align: top;\n",
       "    }\n",
       "\n",
       "    .dataframe thead th {\n",
       "        text-align: right;\n",
       "    }\n",
       "</style>\n",
       "<table border=\"1\" class=\"dataframe\">\n",
       "  <thead>\n",
       "    <tr style=\"text-align: right;\">\n",
       "      <th></th>\n",
       "      <th>Name</th>\n",
       "      <th>Item type</th>\n",
       "      <th>Size</th>\n",
       "      <th>Location</th>\n",
       "      <th>file_vision</th>\n",
       "      <th>embeddings</th>\n",
       "    </tr>\n",
       "  </thead>\n",
       "  <tbody>\n",
       "    <tr>\n",
       "      <th>0</th>\n",
       "      <td>Attention-is-all-you-need-Paper.pdf</td>\n",
       "      <td>pdf</td>\n",
       "      <td>569417</td>\n",
       "      <td>example_folder_for_hippo</td>\n",
       "      <td>\\nPage:'0',\\nText:'Attention Is All You Need\\n...</td>\n",
       "      <td>[-0.03640194609761238, 0.021716909483075142, 0...</td>\n",
       "    </tr>\n",
       "    <tr>\n",
       "      <th>1</th>\n",
       "      <td>Attention-is-all-you-need-Paper.pdf</td>\n",
       "      <td>pdf</td>\n",
       "      <td>569417</td>\n",
       "      <td>example_folder_for_hippo</td>\n",
       "      <td>\\nPage:'1',\\nText:' and implemented the ﬁrst T...</td>\n",
       "      <td>[-0.034438204020261765, -0.008859315887093544,...</td>\n",
       "    </tr>\n",
       "    <tr>\n",
       "      <th>2</th>\n",
       "      <td>Attention-is-all-you-need-Paper.pdf</td>\n",
       "      <td>pdf</td>\n",
       "      <td>569417</td>\n",
       "      <td>example_folder_for_hippo</td>\n",
       "      <td>\\nPage:'1',\\nText:' recurrent network.\\nIn thi...</td>\n",
       "      <td>[-0.03475712984800339, -0.00094626285135746, 0...</td>\n",
       "    </tr>\n",
       "    <tr>\n",
       "      <th>3</th>\n",
       "      <td>Attention-is-all-you-need-Paper.pdf</td>\n",
       "      <td>pdf</td>\n",
       "      <td>569417</td>\n",
       "      <td>example_folder_for_hippo</td>\n",
       "      <td>\\nPage:'2',\\nText:' representations of its inp...</td>\n",
       "      <td>[-0.0385143980383873, 0.007774817291647196, 0....</td>\n",
       "    </tr>\n",
       "    <tr>\n",
       "      <th>4</th>\n",
       "      <td>Attention-is-all-you-need-Paper.pdf</td>\n",
       "      <td>pdf</td>\n",
       "      <td>569417</td>\n",
       "      <td>example_folder_for_hippo</td>\n",
       "      <td>\\nPage:'3',\\nText:' followed by layer normaliz...</td>\n",
       "      <td>[-0.027641979977488518, 0.012347024865448475, ...</td>\n",
       "    </tr>\n",
       "  </tbody>\n",
       "</table>\n",
       "</div>"
      ],
      "text/plain": [
       "                                  Name Item type    Size  \\\n",
       "0  Attention-is-all-you-need-Paper.pdf       pdf  569417   \n",
       "1  Attention-is-all-you-need-Paper.pdf       pdf  569417   \n",
       "2  Attention-is-all-you-need-Paper.pdf       pdf  569417   \n",
       "3  Attention-is-all-you-need-Paper.pdf       pdf  569417   \n",
       "4  Attention-is-all-you-need-Paper.pdf       pdf  569417   \n",
       "\n",
       "                   Location  \\\n",
       "0  example_folder_for_hippo   \n",
       "1  example_folder_for_hippo   \n",
       "2  example_folder_for_hippo   \n",
       "3  example_folder_for_hippo   \n",
       "4  example_folder_for_hippo   \n",
       "\n",
       "                                         file_vision  \\\n",
       "0  \\nPage:'0',\\nText:'Attention Is All You Need\\n...   \n",
       "1  \\nPage:'1',\\nText:' and implemented the ﬁrst T...   \n",
       "2  \\nPage:'1',\\nText:' recurrent network.\\nIn thi...   \n",
       "3  \\nPage:'2',\\nText:' representations of its inp...   \n",
       "4  \\nPage:'3',\\nText:' followed by layer normaliz...   \n",
       "\n",
       "                                          embeddings  \n",
       "0  [-0.03640194609761238, 0.021716909483075142, 0...  \n",
       "1  [-0.034438204020261765, -0.008859315887093544,...  \n",
       "2  [-0.03475712984800339, -0.00094626285135746, 0...  \n",
       "3  [-0.0385143980383873, 0.007774817291647196, 0....  \n",
       "4  [-0.027641979977488518, 0.012347024865448475, ...  "
      ]
     },
     "execution_count": 6,
     "metadata": {},
     "output_type": "execute_result"
    }
   ],
   "source": [
    "knowledge_base.head()"
   ]
  },
  {
   "cell_type": "code",
   "execution_count": null,
   "metadata": {},
   "outputs": [],
   "source": []
  }
 ],
 "metadata": {
  "kernelspec": {
   "display_name": "venv",
   "language": "python",
   "name": "python3"
  },
  "language_info": {
   "codemirror_mode": {
    "name": "ipython",
    "version": 3
   },
   "file_extension": ".py",
   "mimetype": "text/x-python",
   "name": "python",
   "nbconvert_exporter": "python",
   "pygments_lexer": "ipython3",
   "version": "3.9.6"
  },
  "orig_nbformat": 4
 },
 "nbformat": 4,
 "nbformat_minor": 2
}
