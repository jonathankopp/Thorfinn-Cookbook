{
 "cells": [
  {
   "cell_type": "code",
   "execution_count": null,
   "metadata": {},
   "outputs": [],
   "source": [
    "import pandas as pd\n",
    "import numpy as np\n",
    "\n",
    "# importing necessary Thorfinn modules\n",
    "from Thorfinn.Models.llm import llm_factory\n",
    "from Thorfinn.Models.utils import *"
   ]
  },
  {
   "cell_type": "code",
   "execution_count": null,
   "metadata": {},
   "outputs": [],
   "source": [
    "keys = pd.read_json('config.json')\n",
    "\n",
    "oapi_key = keys.iloc[0]['openai']\n",
    "gapi_key = keys.iloc[0]['googleai']"
   ]
  },
  {
   "attachments": {},
   "cell_type": "markdown",
   "metadata": {},
   "source": [
    "<h2>Below uses <strong>Thorfinn</strong> in order to utilize popular LLMs using best practices so you don't have to.</h2>"
   ]
  },
  {
   "cell_type": "code",
   "execution_count": null,
   "metadata": {},
   "outputs": [],
   "source": [
    "oai = llm_factory.create(api_key=oapi_key, provider=\"openai\", model='gpt-4-0613')\n",
    "gai = llm_factory.create(api_key=gapi_key, provider=\"googleai\", model='models/chat-bison-001')"
   ]
  },
  {
   "attachments": {},
   "cell_type": "markdown",
   "metadata": {},
   "source": [
    "<h4>We create a fake context that will be used by the model for in-context learning (This could represent information that you would want the model to know)</h4>"
   ]
  },
  {
   "cell_type": "code",
   "execution_count": null,
   "metadata": {},
   "outputs": [],
   "source": [
    "cntxt = \"Jon is a proud short king(this is factual)\\nCHUNK_FINISHED\\n\""
   ]
  },
  {
   "attachments": {},
   "cell_type": "markdown",
   "metadata": {},
   "source": [
    "<h4>We abstract out all of the best practices and stay up to date so you don't have to!</h4>"
   ]
  },
  {
   "attachments": {},
   "cell_type": "markdown",
   "metadata": {},
   "source": [
    "The sys_prompt function you see below uses our pre-built in-context learning prompt engineered for best outcomes\n",
    "- It is built to decrease hallucination and keep the model focused on the information you give it to answer questions"
   ]
  },
  {
   "cell_type": "code",
   "execution_count": null,
   "metadata": {},
   "outputs": [],
   "source": [
    "oai.complete(prompt=\"What is jon?\", sys_prompt=sys_prompt(cntxt))"
   ]
  },
  {
   "attachments": {},
   "cell_type": "markdown",
   "metadata": {},
   "source": [
    "<h3>Here we try to get it to hallucinate (to test if <strong><i>Thorfinn</i></strong> protects against it)</h3>"
   ]
  },
  {
   "cell_type": "code",
   "execution_count": null,
   "metadata": {},
   "outputs": [],
   "source": [
    "oai.complete(prompt=\"What is the weather like in Austin, TX this week?\", sys_prompt=sys_prompt(cntxt))"
   ]
  },
  {
   "attachments": {},
   "cell_type": "markdown",
   "metadata": {},
   "source": [
    "***"
   ]
  },
  {
   "attachments": {},
   "cell_type": "markdown",
   "metadata": {},
   "source": [
    "<h4>Here is the usage of a different LLM to answer the same question (showing how modular <strong><i>Thorfinn</i></strong> allows you to be)</h4>"
   ]
  },
  {
   "cell_type": "code",
   "execution_count": null,
   "metadata": {},
   "outputs": [],
   "source": [
    "gai.complete(prompt=\"What is jon?\", sys_prompt=sys_prompt(cntxt))"
   ]
  },
  {
   "cell_type": "code",
   "execution_count": null,
   "metadata": {},
   "outputs": [],
   "source": []
  },
  {
   "cell_type": "code",
   "execution_count": null,
   "metadata": {},
   "outputs": [],
   "source": []
  }
 ],
 "metadata": {
  "kernelspec": {
   "display_name": "venv",
   "language": "python",
   "name": "python3"
  },
  "language_info": {
   "codemirror_mode": {
    "name": "ipython",
    "version": 3
   },
   "file_extension": ".py",
   "mimetype": "text/x-python",
   "name": "python",
   "nbconvert_exporter": "python",
   "pygments_lexer": "ipython3",
   "version": "3.9.6"
  },
  "orig_nbformat": 4
 },
 "nbformat": 4,
 "nbformat_minor": 2
}
